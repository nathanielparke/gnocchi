{
 "cells": [
  {
   "cell_type": "markdown",
   "metadata": {},
   "source": [
    "# PyGnocchi Models and Operations"
   ]
  },
  {
   "cell_type": "markdown",
   "metadata": {},
   "source": [
    "Gnocchi supports opertations such as merging the results of multiple analyses and saving these results to file."
   ]
  },
  {
   "cell_type": "code",
   "execution_count": 6,
   "metadata": {},
   "outputs": [],
   "source": [
    "from bdgenomics.gnocchi.core.gnocchiSession import GnocchiSession\n",
    "from bdgenomics.gnocchi.models.linearGnocchiModel import LinearGnocchiModel\n",
    "# from bdgenomics.gnocchi.models.logisticGnocchiModel import LogisticGnocchiModel"
   ]
  },
  {
   "cell_type": "code",
   "execution_count": 2,
   "metadata": {},
   "outputs": [],
   "source": [
    "gs = GnocchiSession(spark) # Build GnocchiSession"
   ]
  },
  {
   "cell_type": "markdown",
   "metadata": {},
   "source": [
    "### Construct a LinearGnocchiModel"
   ]
  },
  {
   "cell_type": "code",
   "execution_count": 3,
   "metadata": {},
   "outputs": [],
   "source": [
    "# Load in genotype and phenotype data\n",
    "genotypesPath1 = \"/Users/Nathaniel/bdg/gnocchi/gnocchi-cli/src/test/resources/RegressionIntegrationTestData_genotypes.vcf\"\n",
    "# phenotypesPath1 = \"../examples/testData/tab_time_phenos_1.txt\"\n",
    "\n",
    "genos1 = gs.loadGenotypes(genotypesPath1, \"\", \"ADDITIVE\")\n",
    "# phenos1 = gs.loadPhenotypes(phenotypesPath1, \"IID\", \"pheno_1\", \"\\t\")"
   ]
  },
  {
   "cell_type": "code",
   "execution_count": 4,
   "metadata": {},
   "outputs": [
    {
     "ename": "NameError",
     "evalue": "name 'LinearGnocchiModel' is not defined",
     "output_type": "error",
     "traceback": [
      "\u001b[0;31m---------------------------------------------------------------------------\u001b[0m",
      "\u001b[0;31mNameError\u001b[0m                                 Traceback (most recent call last)",
      "\u001b[0;32m<ipython-input-4-d31e0b59b2e6>\u001b[0m in \u001b[0;36m<module>\u001b[0;34m()\u001b[0m\n\u001b[1;32m      1\u001b[0m \u001b[0;31m# Use a factory pattern constructor to create the LinearGnocchiModel\u001b[0m\u001b[0;34m\u001b[0m\u001b[0;34m\u001b[0m\u001b[0m\n\u001b[0;32m----> 2\u001b[0;31m linearGnocchiModel1 = LinearGnocchiModel.New(spark, genos1, phenos1, \n\u001b[0m\u001b[1;32m      3\u001b[0m                                              [\"pheno_1\", \"pheno_2\", \"pheno_3\", \"pheno_4\", \"pheno_5\"])\n",
      "\u001b[0;31mNameError\u001b[0m: name 'LinearGnocchiModel' is not defined"
     ]
    }
   ],
   "source": [
    "# Use a factory pattern constructor to create the LinearGnocchiModel\n",
    "linearGnocchiModel1 = LinearGnocchiModel.New(spark, genos1, phenos1, \n",
    "                                             [\"pheno_1\", \"pheno_2\", \"pheno_3\", \"pheno_4\", \"pheno_5\"])"
   ]
  },
  {
   "cell_type": "markdown",
   "metadata": {},
   "source": [
    "### Access Inner Datasets"
   ]
  },
  {
   "cell_type": "markdown",
   "metadata": {},
   "source": [
    "This allows us to view inside the dataset, pull out specific samples and to interpret the results."
   ]
  },
  {
   "cell_type": "code",
   "execution_count": 5,
   "metadata": {},
   "outputs": [
    {
     "ename": "NameError",
     "evalue": "name 'linearGnocchiModel1' is not defined",
     "output_type": "error",
     "traceback": [
      "\u001b[0;31m---------------------------------------------------------------------------\u001b[0m",
      "\u001b[0;31mNameError\u001b[0m                                 Traceback (most recent call last)",
      "\u001b[0;32m<ipython-input-5-6c0cb5fedc05>\u001b[0m in \u001b[0;36m<module>\u001b[0;34m()\u001b[0m\n\u001b[1;32m      1\u001b[0m \u001b[0;31m# Access the inner Variant Models\u001b[0m\u001b[0;34m\u001b[0m\u001b[0;34m\u001b[0m\u001b[0m\n\u001b[0;32m----> 2\u001b[0;31m \u001b[0mvariantModels\u001b[0m \u001b[0;34m=\u001b[0m \u001b[0mlinearGnocchiModel1\u001b[0m\u001b[0;34m.\u001b[0m\u001b[0mgetVariantModels\u001b[0m\u001b[0;34m(\u001b[0m\u001b[0;34m)\u001b[0m\u001b[0;34m\u001b[0m\u001b[0m\n\u001b[0m\u001b[1;32m      3\u001b[0m \u001b[0mprint\u001b[0m\u001b[0;34m(\u001b[0m\u001b[0;34m\"Example Variant Model:\"\u001b[0m\u001b[0;34m,\u001b[0m \u001b[0mvariantModels\u001b[0m\u001b[0;34m.\u001b[0m\u001b[0mget\u001b[0m\u001b[0;34m(\u001b[0m\u001b[0;34m)\u001b[0m\u001b[0;34m.\u001b[0m\u001b[0mhead\u001b[0m\u001b[0;34m(\u001b[0m\u001b[0;34m)\u001b[0m\u001b[0;34m.\u001b[0m\u001b[0mtoString\u001b[0m\u001b[0;34m(\u001b[0m\u001b[0;34m)\u001b[0m\u001b[0;34m)\u001b[0m\u001b[0;34m\u001b[0m\u001b[0m\n",
      "\u001b[0;31mNameError\u001b[0m: name 'linearGnocchiModel1' is not defined"
     ]
    }
   ],
   "source": [
    "# Access the inner Variant Models\n",
    "variantModels = linearGnocchiModel1.getVariantModels()\n",
    "print(\"Example Variant Model:\", variantModels.get().head().toString())"
   ]
  },
  {
   "cell_type": "markdown",
   "metadata": {},
   "source": [
    "These datasets also expose a set of operations that can be used to build out UDFs to run atop pySpark."
   ]
  },
  {
   "cell_type": "code",
   "execution_count": 6,
   "metadata": {},
   "outputs": [
    {
     "name": "stdout",
     "output_type": "stream",
     "text": [
      "Available operations on Variants Datasets: aggregate, cache, cartesian, checkpoint, classTag, coalesce, collect, collectAsync, collectPartitions, context, count, countApprox, countApproxDistinct, countAsync, countByValue, countByValueApprox, distinct, equals, filter, first, flatMap, flatMapToDouble, flatMapToPair, fold, foreach, foreachAsync, foreachPartition, foreachPartitionAsync, fromRDD, getCheckpointFile, getClass, getNumPartitions, getStorageLevel, glom, groupBy, hashCode, id, intersection, isCheckpointed, isEmpty, iterator, keyBy, map, mapPartitions, mapPartitionsToDouble, mapPartitionsToPair, mapPartitionsWithIndex, mapPartitionsWithIndex$default$2, mapToDouble, mapToPair, max, min, name, notify, notifyAll, partitioner, partitions, persist, pipe, randomSplit, rdd, reduce, repartition, sample, saveAsObjectFile, saveAsTextFile, setName, sortBy, subtract, take, takeAsync, takeOrdered, takeSample, toDebugString, toLocalIterator, toRDD, toString, top, treeAggregate, treeReduce, union, unpersist, wait, wrapRDD, zip, zipPartitions, zipWithIndex, zipWithUniqueId\n"
     ]
    }
   ],
   "source": [
    "# Access the inner QC Variants\n",
    "QCVariants = linearGnocchiModel1.getQCVariants()\n",
    "print(\"Available operations on Variants Datasets:\", \", \".join(dir(QCVariants.get().toJavaRDD())))"
   ]
  },
  {
   "cell_type": "markdown",
   "metadata": {},
   "source": [
    "### Access Model Attributes"
   ]
  },
  {
   "cell_type": "code",
   "execution_count": 7,
   "metadata": {},
   "outputs": [
    {
     "name": "stdout",
     "output_type": "stream",
     "text": [
      "Model Type: LinearRegression\n",
      "Phenotype: pheno_1\n",
      "Covariates: pheno_2,pheno_3,pheno_4,pheno_5\n",
      "Num Samples: 10000\n",
      "Haplotype Block Error Threshold: 0.1\n"
     ]
    }
   ],
   "source": [
    "print(\"Model Type:\", linearGnocchiModel1.getModelType())\n",
    "print(\"Phenotype:\", linearGnocchiModel1.getPhenotype())\n",
    "print(\"Covariates:\", linearGnocchiModel1.getCovariates())\n",
    "print(\"Num Samples:\", linearGnocchiModel1.getNumSamples())\n",
    "print(\"Haplotype Block Error Threshold:\", linearGnocchiModel1.getHaplotypeBlockErrorThreshold())\n",
    "# print(\"Flagged Variant Models:\", linearGnocchiModel1.getFlaggedVariantModels())"
   ]
  },
  {
   "cell_type": "markdown",
   "metadata": {},
   "source": [
    "### Construct Second LinearGnocchiModel"
   ]
  },
  {
   "cell_type": "code",
   "execution_count": 31,
   "metadata": {},
   "outputs": [],
   "source": [
    "# Load in genotype and phenotype data\n",
    "genotypesPath2 = \"../examples/testData/time_genos_2.vcf\"\n",
    "phenotypesPath2 = \"../examples/testData/time_phenos_2.txt\"\n",
    "\n",
    "genos2 = gs.loadGenotypes(genotypesPath2)\n",
    "phenos2 = gs.loadPhenotypes(phenotypesPath2, \"IID\", \"pheno_1\", \"\\t\")"
   ]
  },
  {
   "cell_type": "code",
   "execution_count": 117,
   "metadata": {
    "scrolled": false
   },
   "outputs": [
    {
     "data": {
      "text/plain": [
       "['apply', 'commandDescription', 'commandName', 'main']"
      ]
     },
     "execution_count": 117,
     "metadata": {},
     "output_type": "execute_result"
    }
   ],
   "source": [
    "# HUGE BENEFIT TO USING DATASETS! We can register the called variant dataset as a temp view and run arbitrary sql against it!\n",
    "# dir(genos2._jvmDS.genotypes())\n",
    "import json\n",
    "from pprint import pprint\n",
    "\n",
    "sc = genos2.sc\n",
    "\n",
    "# genos2.sc._jvm.org.bdgenomics.gnocchi.algorithms.siteregression.LinearSiteRegression\n",
    "\n",
    "# a = sc._jvm.org.bdgenomics.gnocchi.algorithms.siteregression.LinearSiteRegression.super\n",
    "\n",
    "# a.apply(genos2.get(), phenos2.get())\n",
    "\n",
    "b = genos2.get()\n",
    "c = phenos2.get()\n",
    "\n",
    "dir(sc._jvm.org.bdgenomics.gnocchi.cli.RegressPhenotypes)\n",
    "# a(b, c)\n",
    "\n",
    "# a(genos2.get, phenos2.get)"
   ]
  },
  {
   "cell_type": "code",
   "execution_count": 112,
   "metadata": {},
   "outputs": [
    {
     "data": {
      "text/plain": [
       "<py4j.java_gateway.JVMView at 0x10eee5908>"
      ]
     },
     "execution_count": 112,
     "metadata": {},
     "output_type": "execute_result"
    }
   ],
   "source": [
    "jvm.help()"
   ]
  },
  {
   "cell_type": "code",
   "execution_count": 9,
   "metadata": {
    "collapsed": true
   },
   "outputs": [],
   "source": [
    "# Use a factory pattern constructor to create the LinearGnocchiModel\n",
    "linearGnocchiModel2 = LinearGnocchiModel.New(spark, genos2, phenos2, \n",
    "                                             [\"pheno_1\", \"pheno_2\", \"pheno_3\", \"pheno_4\", \"pheno_5\"])"
   ]
  },
  {
   "cell_type": "code",
   "execution_count": 10,
   "metadata": {},
   "outputs": [
    {
     "name": "stdout",
     "output_type": "stream",
     "text": [
      "Num Samples: 10000\n"
     ]
    }
   ],
   "source": [
    "print(\"Num Samples:\", linearGnocchiModel2.getNumSamples())"
   ]
  },
  {
   "cell_type": "markdown",
   "metadata": {},
   "source": [
    "### Merge LinearGnocchiModels"
   ]
  },
  {
   "cell_type": "code",
   "execution_count": 11,
   "metadata": {},
   "outputs": [
    {
     "name": "stdout",
     "output_type": "stream",
     "text": [
      "Num Samples: 20000\n"
     ]
    }
   ],
   "source": [
    "mergedLinearGnocchiModel = linearGnocchiModel1.mergeGnocchiModel(linearGnocchiModel2)\n",
    "\n",
    "print(\"Num Samples:\", mergedLinearGnocchiModel.getNumSamples())"
   ]
  },
  {
   "cell_type": "code",
   "execution_count": 12,
   "metadata": {
    "collapsed": true
   },
   "outputs": [],
   "source": [
    "mergedVariantModels = linearGnocchiModel1.mergeVariantModels(linearGnocchiModel2.getVariantModels())"
   ]
  },
  {
   "cell_type": "code",
   "execution_count": 13,
   "metadata": {},
   "outputs": [],
   "source": [
    "mergedQCVariants = linearGnocchiModel1.mergeQCVariants(linearGnocchiModel2.getQCVariants())"
   ]
  }
 ],
 "metadata": {
  "kernelspec": {
   "display_name": "Python 3",
   "language": "python",
   "name": "python3"
  },
  "language_info": {
   "codemirror_mode": {
    "name": "ipython",
    "version": 3
   },
   "file_extension": ".py",
   "mimetype": "text/x-python",
   "name": "python",
   "nbconvert_exporter": "python",
   "pygments_lexer": "ipython3",
   "version": "3.6.4"
  }
 },
 "nbformat": 4,
 "nbformat_minor": 2
}
